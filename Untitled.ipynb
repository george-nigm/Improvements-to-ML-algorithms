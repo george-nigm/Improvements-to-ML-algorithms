{
 "cells": [
  {
   "cell_type": "code",
   "execution_count": 59,
   "id": "778bdd01",
   "metadata": {},
   "outputs": [],
   "source": [
    "import pandas as pd\n",
    "import numpy as np"
   ]
  },
  {
   "cell_type": "code",
   "execution_count": 60,
   "id": "737bbde4",
   "metadata": {},
   "outputs": [],
   "source": [
    "X_train_not_quered = pd.read_csv('X_train_not_quered.csv')\n",
    "X_train_quere = pd.read_csv('X_train_quere.csv')\n",
    "\n",
    "out_y_train = pd.read_csv('out_y_train.csv')\n",
    "out_y_train_not_quered = pd.read_csv('out_y_train_not_quered.csv')\n",
    "out_y_train_quere = pd.read_csv('out_y_train_quere.csv')"
   ]
  },
  {
   "cell_type": "code",
   "execution_count": 61,
   "id": "5dee4280",
   "metadata": {},
   "outputs": [],
   "source": [
    "y_train = out_y_train.iloc[:,1].values\n",
    "y_train_not_quered = out_y_train_not_quered.iloc[:,1].values\n",
    "y_train_quere = out_y_train_quere.iloc[:,1].values"
   ]
  },
  {
   "cell_type": "code",
   "execution_count": 62,
   "id": "09de4726",
   "metadata": {},
   "outputs": [
    {
     "name": "stdout",
     "output_type": "stream",
     "text": [
      "0.1\n",
      "quered: x: (108, 7), y: (108,)\n",
      "unquered: x: (975, 8), y: (975,)\n",
      "<class 'pandas.core.frame.DataFrame'>\n",
      "<class 'numpy.ndarray'>\n",
      "<class 'pandas.core.frame.DataFrame'>\n",
      "<class 'numpy.ndarray'>\n",
      "\n",
      "0.4\n",
      "quered: x: (400, 8), y: (400,)\n",
      "unquered: x: (683, 8), y: (683,)\n",
      "<class 'pandas.core.frame.DataFrame'>\n",
      "<class 'numpy.ndarray'>\n",
      "<class 'pandas.core.frame.DataFrame'>\n",
      "<class 'numpy.ndarray'>\n",
      "\n",
      "0.7\n",
      "quered: x: (692, 8), y: (692,)\n",
      "unquered: x: (391, 8), y: (391,)\n",
      "<class 'pandas.core.frame.DataFrame'>\n",
      "<class 'numpy.ndarray'>\n",
      "<class 'pandas.core.frame.DataFrame'>\n",
      "<class 'numpy.ndarray'>\n",
      "\n",
      "1.0\n",
      "quered: x: (984, 8), y: (984,)\n",
      "unquered: x: (99, 8), y: (99,)\n",
      "<class 'pandas.core.frame.DataFrame'>\n",
      "<class 'numpy.ndarray'>\n",
      "<class 'pandas.core.frame.DataFrame'>\n",
      "<class 'numpy.ndarray'>\n",
      "\n"
     ]
    }
   ],
   "source": [
    "train_random_portion = 0.10\n",
    "step = 0.30\n",
    "queries_ratio = train_random_portion\n",
    "queries_index = int(step * X_train_not_quered.shape[0])\n",
    "\n",
    "\n",
    "while queries_ratio <= 1:\n",
    "    print(queries_ratio)\n",
    "    # Recieve uncertainty for remaining samples of initial dataset and sort according to uncertainty\n",
    "    print(f'quered: x: {X_train_quere.shape}, y: {y_train_quere.shape}')\n",
    "    print(f'unquered: x: {X_train_not_quered.shape}, y: {y_train_not_quered.shape}')\n",
    "    \n",
    "    \n",
    "    print(type(X_train_quere))\n",
    "    print(type(y_train_quere))\n",
    "    print(type(X_train_not_quered))\n",
    "    print(type(y_train_not_quered))\n",
    "                \n",
    "    \n",
    "    \n",
    "    X_train_quere = pd.concat([X_train_quere , X_train_not_quered[:queries_index]])\n",
    "    y_train_quere = y_train[X_train_quere.index]\n",
    "    X_train_not_quered = X_train_not_quered[queries_index:]\n",
    "    y_train_not_quered = y_train[X_train_not_quered.index]  \n",
    "    \n",
    "    print('')\n",
    "                                 \n",
    "                                 \n",
    "    queries_ratio += step"
   ]
  }
 ],
 "metadata": {
  "kernelspec": {
   "display_name": "Python 3 (ipykernel)",
   "language": "python",
   "name": "python3"
  },
  "language_info": {
   "codemirror_mode": {
    "name": "ipython",
    "version": 3
   },
   "file_extension": ".py",
   "mimetype": "text/x-python",
   "name": "python",
   "nbconvert_exporter": "python",
   "pygments_lexer": "ipython3",
   "version": "3.8.5"
  }
 },
 "nbformat": 4,
 "nbformat_minor": 5
}
